{
 "cells": [
  {
   "cell_type": "code",
   "execution_count": null,
   "id": "8fc50612-fd88-411a-aab5-a72a663e3750",
   "metadata": {},
   "outputs": [],
   "source": [
    "# FOR LOOP\n",
    "for(start,stop,step)\n",
    "range(start,stop,step)\n",
    "start --> default 0\n",
    "stop --> n-1(always)\n",
    "step --> by default +1\n"
   ]
  },
  {
   "cell_type": "code",
   "execution_count": 1,
   "id": "767b4b0d-83dd-4672-9628-f95b3c1bae0a",
   "metadata": {},
   "outputs": [
    {
     "data": {
      "text/plain": [
       "range(0, 5)"
      ]
     },
     "execution_count": 1,
     "metadata": {},
     "output_type": "execute_result"
    }
   ],
   "source": [
    "n=5\n",
    "range(n)\n",
    "range(0,5,1)"
   ]
  },
  {
   "cell_type": "code",
   "execution_count": 2,
   "id": "286b345f-a5c3-43bf-bea5-c7d71bd0b7f2",
   "metadata": {},
   "outputs": [
    {
     "name": "stdout",
     "output_type": "stream",
     "text": [
      "5\n",
      "4\n",
      "3\n",
      "2\n",
      "1\n",
      "0\n"
     ]
    }
   ],
   "source": [
    "n=5\n",
    "for i in range(n,-1,-1):\n",
    "    print(i)"
   ]
  },
  {
   "cell_type": "code",
   "execution_count": null,
   "id": "3a6c0788-475b-401f-8332-8712e4dcb36d",
   "metadata": {},
   "outputs": [],
   "source": [
    "for i in range (1,11):\n",
    "    print(i)"
   ]
  },
  {
   "cell_type": "code",
   "execution_count": null,
   "id": "4cfcf541-440b-4fa4-afac-2c425ac86860",
   "metadata": {},
   "outputs": [],
   "source": [
    "for i in range(21):\n",
    "    if i%2!=0:\n",
    "        print(i)"
   ]
  },
  {
   "cell_type": "code",
   "execution_count": null,
   "id": "fdb2de63-b41e-42f2-88a8-13c471c61efe",
   "metadata": {},
   "outputs": [],
   "source": [
    "n=5\n",
    "for i in range(1,n,2):\n",
    "    print(i)"
   ]
  },
  {
   "cell_type": "code",
   "execution_count": null,
   "id": "0b46defb-f13c-4ce7-814f-594340b2dd01",
   "metadata": {},
   "outputs": [],
   "source": [
    "#natural numbers-1,2,3......\n",
    "\n",
    "n=10\n",
    "for i in range (1,11,1):\n",
    "    print(i,end=\" \")"
   ]
  },
  {
   "cell_type": "code",
   "execution_count": null,
   "id": "e8825525-f9ac-48cf-9421-d995dcc39d28",
   "metadata": {},
   "outputs": [],
   "source": [
    "#whole numbers-0,1,2,3,.....\n",
    "\n",
    "n=10\n",
    "for i in range(0,11,1):\n",
    "    print(i,end=\" \")"
   ]
  },
  {
   "cell_type": "code",
   "execution_count": null,
   "id": "f8fcd590-7971-4254-aed5-63138a3fb054",
   "metadata": {},
   "outputs": [],
   "source": [
    "n=40\n",
    "for i in range(0,n,2):\n",
    "    print(i,end=\" \")"
   ]
  },
  {
   "cell_type": "code",
   "execution_count": null,
   "id": "f97ccc59-5ba0-4944-be4c-332c1df8de35",
   "metadata": {},
   "outputs": [],
   "source": [
    "#WAP TO PRINT SUM OF n NATURAL NUMBERS\n",
    "\n",
    "n=int(input(\"enter any number:\"))\n",
    "sum=0\n",
    "for i in range(1,n+1):\n",
    "    sum=sum+i\n",
    "print(sum)\n"
   ]
  },
  {
   "cell_type": "code",
   "execution_count": null,
   "id": "d31f0e42-e3bf-43e9-ad64-4fbcf43a6c8b",
   "metadata": {},
   "outputs": [],
   "source": [
    "#WAP TO PRINT SUM OF FIRST 20 EVEN NUMBERS STARTING FROM 0\n",
    "\n",
    "n=40\n",
    "sum=0\n",
    "for i in range(0,n):\n",
    "    if i%2==0:\n",
    "        sum=sum+i\n",
    "\n",
    "print(sum)"
   ]
  },
  {
   "cell_type": "code",
   "execution_count": null,
   "id": "b56fe344-a6b5-4f83-90f7-727a70a4e004",
   "metadata": {},
   "outputs": [],
   "source": [
    "#FIBONACCI SERIES--> SUMMATION OF PREVIOUS TWO NUMBERS\n",
    "\n",
    "a=0\n",
    "b=1\n",
    "n=int(input(\"enter how many terms:\"))\n",
    "print(a,b,end=\" \")\n",
    "for i in range(2,n):\n",
    "    c=a+b\n",
    "    print(c,end=\" \")\n",
    "    a=b\n",
    "    b=c"
   ]
  },
  {
   "cell_type": "code",
   "execution_count": null,
   "id": "fc358b0d-8268-4066-bb84-5eec044f66be",
   "metadata": {},
   "outputs": [],
   "source": [
    "#WAP TO CHECK WHETHER A NUMBER IS PRIME OR NOT\n",
    "\n",
    "n=int(input(\"enter any numbe:\"))\n",
    "if n==0 or  n==1:\n",
    "    print(n,\"not a prime number\")\n",
    "elif n>1:\n",
    "    for i in range(2,n):\n",
    "        if n%i==0:\n",
    "            print(n,\"not a prime number\")\n",
    "            break\n",
    "    else:\n",
    "        print(n,\"is a prime number\")\n",
    "else:\n",
    "    print(n,\"not a prime number\")\n",
    "\n",
    "\n",
    "    "
   ]
  },
  {
   "cell_type": "code",
   "execution_count": null,
   "id": "d0f3624f-5bf0-4f87-bcef-3f7734210cf5",
   "metadata": {},
   "outputs": [],
   "source": [
    "#WAP TO PRINT THE NUMBER OF EVEN AND ODD NUMBER BETWEEN 0-1000\n",
    "\n",
    "even=0\n",
    "odd=0\n",
    "for i in range(0,1000):\n",
    "    if(i%2==0):\n",
    "        even=even+1\n",
    "    else:\n",
    "        odd=odd+1\n",
    "\n",
    "print(even,end=\" \")\n",
    "print(odd,end=\" \")"
   ]
  },
  {
   "cell_type": "code",
   "execution_count": null,
   "id": "82d45708-8097-401c-bbae-0f45b62ae9a5",
   "metadata": {},
   "outputs": [],
   "source": [
    "n=int(input(\"enter any number:\"))\n",
    "fact=1\n",
    "for i in range(1,n+1):\n",
    "    fact=fact*i\n",
    "\n",
    "print(fact)\n"
   ]
  },
  {
   "cell_type": "code",
   "execution_count": null,
   "id": "c44dbe8a-0f97-4787-9481-dfbd9891efb9",
   "metadata": {},
   "outputs": [],
   "source": [
    "n=5\n",
    "for i in range(n):\n",
    "    for j in range(n):\n",
    "        print(\"*\",end=\" \")\n",
    "    print()\n",
    "\n",
    "    "
   ]
  },
  {
   "cell_type": "code",
   "execution_count": null,
   "id": "438bc696-d5dc-4e15-be79-2930f92d1c7b",
   "metadata": {},
   "outputs": [],
   "source": [
    "n=5\n",
    "for i in range(n):\n",
    "    for j in range(n-i):\n",
    "        print(\"*\",end=\" \")\n",
    "    print()"
   ]
  },
  {
   "cell_type": "code",
   "execution_count": 3,
   "id": "fb47197e-973d-40f1-a94f-876ca782a901",
   "metadata": {},
   "outputs": [
    {
     "name": "stdout",
     "output_type": "stream",
     "text": [
      "        * \n",
      "      * * \n",
      "    * * * \n",
      "  * * * * \n",
      "* * * * * \n"
     ]
    }
   ],
   "source": [
    "n=5\n",
    "for i in range(n):\n",
    "    for j in range(n-i-1):\n",
    "        print(\" \",end=\" \")\n",
    "    for j in range(i+1):\n",
    "        print(\"*\",end=\" \")\n",
    "    print()\n",
    "    \n",
    "    "
   ]
  },
  {
   "cell_type": "code",
   "execution_count": null,
   "id": "2e0761d7-c47d-4d2d-bedb-d8a8702a202a",
   "metadata": {},
   "outputs": [],
   "source": [
    "n=5\n",
    "for i in range(n):\n",
    "    for j in range(n-i-1):\n",
    "        print(\"\",end=\" \")\n",
    "    for j in range(i+1):\n",
    "        print(\"*\",end=\" \")\n",
    "    print()"
   ]
  },
  {
   "cell_type": "code",
   "execution_count": null,
   "id": "93799f6c-1e73-450b-a256-b93c0d11a95b",
   "metadata": {},
   "outputs": [],
   "source": [
    "n=5\n",
    "for i in range(n):\n",
    "    for j in range(i):\n",
    "        print(\"\",end=\" \")\n",
    "    for j in range(n-i):\n",
    "        print(\"*\",end=\" \")\n",
    "    print()"
   ]
  },
  {
   "cell_type": "code",
   "execution_count": null,
   "id": "99c631c6-672a-414d-a30c-b562459abf62",
   "metadata": {},
   "outputs": [],
   "source": [
    "n=5\n",
    "for i in range(n):\n",
    "    for j in range(n-i-1):\n",
    "        print(\" \",end=\" \")\n",
    "    for j in range(2*i+1):\n",
    "        print(\"*\",end=\" \")\n",
    "    print()"
   ]
  },
  {
   "cell_type": "code",
   "execution_count": null,
   "id": "cbff1549-1b2f-4bb4-9344-ad12547d5c24",
   "metadata": {},
   "outputs": [],
   "source": [
    "n=5\n",
    "for i in range(n):\n",
    "    for j in range(n-i-1):\n",
    "        print(\" \",end=\" \")\n",
    "    for j in range(i+1):\n",
    "        print(\"*\",end=\" \")\n",
    "    for j in range (i):\n",
    "        print(\"*\",end=\" \")\n",
    "    print()\n",
    "    "
   ]
  },
  {
   "cell_type": "code",
   "execution_count": null,
   "id": "ef6ac990-fc5f-4cda-8ff1-829409e1a539",
   "metadata": {},
   "outputs": [],
   "source": [
    "n=5\n",
    "for i in range(n):\n",
    "    for j in range(i):\n",
    "        print(\" \",end=\" \")\n",
    "    for j in range(n-i):\n",
    "        print(\"*\",end=\" \")\n",
    "    print()"
   ]
  },
  {
   "cell_type": "code",
   "execution_count": null,
   "id": "26329489-b24c-4f0d-83cb-fe69c1d00723",
   "metadata": {},
   "outputs": [],
   "source": [
    "n=5\n",
    "for i in range(n):\n",
    "    for j in range(i+1):\n",
    "        print(\"*\",end=\" \")\n",
    "    print()"
   ]
  },
  {
   "cell_type": "code",
   "execution_count": null,
   "id": "f2d4cd83-5ac5-4433-ae53-f0bd71c2d91a",
   "metadata": {},
   "outputs": [],
   "source": [
    "n=5\n",
    "for i in range(n):\n",
    "    for j in range(j):\n",
    "        print(\"*\",end=\" \")\n",
    "    print()"
   ]
  },
  {
   "cell_type": "code",
   "execution_count": null,
   "id": "4b5f7bab-2a77-471c-b153-5ee86a0725f9",
   "metadata": {},
   "outputs": [],
   "source": [
    "n=5\n",
    "for i in range(n):\n",
    "    for j in range(i):\n",
    "        print(\"*\",end=\" \")\n",
    "    print()"
   ]
  },
  {
   "cell_type": "code",
   "execution_count": null,
   "id": "07778f1e-d342-467f-9655-816f3179f852",
   "metadata": {},
   "outputs": [],
   "source": [
    "n=5\n",
    "for i in range(n):\n",
    "    for j in range(j):\n",
    "        print(\"\",end=\" \")\n",
    "    for j in range(i+1):\n",
    "        print(\"*\",end=\" \")\n",
    "    for j in range (i):\n",
    "        print(\"*\",end=\" \")\n",
    "    print()"
   ]
  },
  {
   "cell_type": "code",
   "execution_count": null,
   "id": "d99bbe7e-6bac-4eee-9be2-b8255250c7db",
   "metadata": {},
   "outputs": [],
   "source": [
    "n=5\n",
    "for j in range(n):\n",
    "    print(\"*\",end=\" \")\n",
    "    print()"
   ]
  },
  {
   "cell_type": "code",
   "execution_count": null,
   "id": "faa3de3b-1f1d-472c-bc08-49d11e54824f",
   "metadata": {},
   "outputs": [],
   "source": [
    "s=\"cybrom\"\n",
    "for i in s:\n",
    "    print(i)\n"
   ]
  },
  {
   "cell_type": "code",
   "execution_count": null,
   "id": "6b92884a-8d06-4ffd-97ef-fcca65fa5e21",
   "metadata": {},
   "outputs": [],
   "source": [
    "#while loop\n",
    "#initialise ----> start condition\n",
    "#condition(true)----->stop condition\n",
    "#increment/decrement----->stop condition"
   ]
  },
  {
   "cell_type": "code",
   "execution_count": null,
   "id": "6dbae696-6bea-44ba-bf99-4d14dbee275d",
   "metadata": {},
   "outputs": [],
   "source": [
    "i=10\n",
    "while i>=1:\n",
    "    print(i,\"cybrom\")\n",
    "    i=i-1"
   ]
  },
  {
   "cell_type": "code",
   "execution_count": null,
   "id": "068695ae-7cc9-4ed7-a1c2-c6b14436cfe8",
   "metadata": {},
   "outputs": [],
   "source": [
    "i=1\n",
    "while i<=10:\n",
    "    print(i,\"cybrom\")\n",
    "    i=i+1"
   ]
  },
  {
   "cell_type": "code",
   "execution_count": 1,
   "id": "f81d6e10-9fd4-4cea-aa40-e5617b845100",
   "metadata": {},
   "outputs": [
    {
     "name": "stdout",
     "output_type": "stream",
     "text": [
      "441\n"
     ]
    }
   ],
   "source": [
    "#wap to print sum of first 20 odd numbers using while loop\n",
    "\n",
    "i=1\n",
    "s=0\n",
    "while i<=41:\n",
    "    s=s+i\n",
    "    i=i+2\n",
    "print(s)"
   ]
  },
  {
   "cell_type": "code",
   "execution_count": 3,
   "id": "262b38a4-788e-4088-ad53-6cc2099d785e",
   "metadata": {},
   "outputs": [
    {
     "name": "stdout",
     "output_type": "stream",
     "text": [
      "441\n"
     ]
    }
   ],
   "source": [
    "n=1\n",
    "sum=0\n",
    "while n<=41:\n",
    "    if n%2!=0:\n",
    "        sum=sum+n\n",
    "    n=n+1\n",
    "print(sum)"
   ]
  },
  {
   "cell_type": "code",
   "execution_count": 4,
   "id": "89fc1d63-2bad-41ef-adef-f94a91da76dd",
   "metadata": {},
   "outputs": [
    {
     "name": "stdin",
     "output_type": "stream",
     "text": [
      "enter any number: 231\n"
     ]
    },
    {
     "name": "stdout",
     "output_type": "stream",
     "text": [
      "132\n"
     ]
    }
   ],
   "source": [
    "#wap to print reverse of any number.\n",
    "\n",
    "n=int(input(\"enter any number:\"))\n",
    "rev=0\n",
    "while n!=0:\n",
    "    dig=n%10\n",
    "    rev=rev*10+dig\n",
    "    n=n//10\n",
    "print(rev)\n",
    "    "
   ]
  },
  {
   "cell_type": "code",
   "execution_count": 7,
   "id": "8e126c83-e4be-4371-bc76-e058b509deb5",
   "metadata": {},
   "outputs": [
    {
     "name": "stdout",
     "output_type": "stream",
     "text": [
      "034\n",
      "34\n"
     ]
    }
   ],
   "source": [
    "n=\"430\"\n",
    "rev=\"\"\n",
    "for i in n:\n",
    "    rev=i+rev\n",
    "print(rev)\n",
    "print(int(rev))"
   ]
  },
  {
   "cell_type": "code",
   "execution_count": 8,
   "id": "1957ab32-1d0d-48df-bf1d-d9b4e18f8c7b",
   "metadata": {},
   "outputs": [
    {
     "name": "stdin",
     "output_type": "stream",
     "text": [
      "enter any number: 1\n"
     ]
    }
   ],
   "source": [
    "#armstrong number\n",
    "\n",
    "n=int(input(\"enter any number:\"))"
   ]
  },
  {
   "cell_type": "code",
   "execution_count": 20,
   "id": "26e1649e-6f50-4943-999f-7a3400f19b5d",
   "metadata": {},
   "outputs": [
    {
     "data": {
      "text/plain": [
       "23"
      ]
     },
     "execution_count": 20,
     "metadata": {},
     "output_type": "execute_result"
    }
   ],
   "source": [
    "230//10\n"
   ]
  },
  {
   "cell_type": "markdown",
   "id": "78fdd0be-53a9-40ae-9b23-d6e583180118",
   "metadata": {},
   "source": [
    "8+2\n"
   ]
  },
  {
   "cell_type": "code",
   "execution_count": 19,
   "id": "5c360712-1a58-4cec-b965-c54bda4a8f57",
   "metadata": {},
   "outputs": [
    {
     "data": {
      "text/plain": [
       "10"
      ]
     },
     "execution_count": 19,
     "metadata": {},
     "output_type": "execute_result"
    }
   ],
   "source": [
    "8+2"
   ]
  },
  {
   "cell_type": "code",
   "execution_count": null,
   "id": "b1500f50-97dc-4aab-8d3b-78bc31c72bf9",
   "metadata": {},
   "outputs": [],
   "source": []
  }
 ],
 "metadata": {
  "kernelspec": {
   "display_name": "Python 3 (ipykernel)",
   "language": "python",
   "name": "python3"
  },
  "language_info": {
   "codemirror_mode": {
    "name": "ipython",
    "version": 3
   },
   "file_extension": ".py",
   "mimetype": "text/x-python",
   "name": "python",
   "nbconvert_exporter": "python",
   "pygments_lexer": "ipython3",
   "version": "3.11.7"
  }
 },
 "nbformat": 4,
 "nbformat_minor": 5
}
