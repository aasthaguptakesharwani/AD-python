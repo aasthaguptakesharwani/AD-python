{
 "cells": [
  {
   "cell_type": "code",
   "execution_count": 1,
   "id": "287bb478-5303-4f0e-a63a-ef231d3b5469",
   "metadata": {},
   "outputs": [
    {
     "name": "stdout",
     "output_type": "stream",
     "text": [
      "w\n",
      "e\n",
      "l\n",
      "c\n",
      "o\n",
      "m\n",
      "e\n",
      " \n",
      "t\n",
      "o\n",
      " \n",
      "c\n",
      "y\n",
      "b\n",
      "r\n",
      "o\n",
      "m\n"
     ]
    }
   ],
   "source": [
    "# STRING\n",
    "#immutable\n",
    "#indexed\n",
    "#ordered\n",
    "#homogenous\n",
    "\n",
    "s=\"welcome to cybrom\"\n",
    "for i in s:\n",
    "    print(i)"
   ]
  },
  {
   "cell_type": "code",
   "execution_count": 4,
   "id": "1624a374-3f99-4f83-9cf7-b65257fa9ac0",
   "metadata": {},
   "outputs": [
    {
     "name": "stdout",
     "output_type": "stream",
     "text": [
      "obco m\n"
     ]
    }
   ],
   "source": [
    "print(s[-2:-13:-2])"
   ]
  },
  {
   "cell_type": "code",
   "execution_count": 5,
   "id": "31ef355b-b093-49df-99d5-193fdbbe419b",
   "metadata": {},
   "outputs": [
    {
     "name": "stdout",
     "output_type": "stream",
     "text": [
      "obco \n"
     ]
    }
   ],
   "source": [
    "print(s[-2:-12:-2])"
   ]
  },
  {
   "cell_type": "code",
   "execution_count": 10,
   "id": "3e4adf91-9ed3-49c8-9183-39ad9bf9687d",
   "metadata": {},
   "outputs": [
    {
     "name": "stdout",
     "output_type": "stream",
     "text": [
      "cybrom\n"
     ]
    }
   ],
   "source": [
    "print(s[11::])"
   ]
  },
  {
   "cell_type": "code",
   "execution_count": 18,
   "id": "dfc9e9a0-ce76-4f7e-8bb5-135fa3b18489",
   "metadata": {},
   "outputs": [
    {
     "name": "stdout",
     "output_type": "stream",
     "text": [
      "8 vowels\n",
      "4 special characters\n",
      "12 consonants\n"
     ]
    }
   ],
   "source": [
    "s=\"welcome to city of lakes\"\n",
    "\n",
    "v=0\n",
    "c=0\n",
    "sp=0\n",
    "for i in s:\n",
    "    if(i==\"a\" or i==\"e\" or i==\"i\" or i==\"o\" or i==\"u\"):\n",
    "        v=v+1\n",
    "    elif(i==\" \"):\n",
    "        sp=sp+1\n",
    "    else:\n",
    "        c=c+1\n",
    "print(v,\"vowels\")\n",
    "print(sp,\"special characters\")\n",
    "print(c,\"consonants\")\n",
    "\n"
   ]
  },
  {
   "cell_type": "code",
   "execution_count": 1,
   "id": "b4acc8e9-244a-4cce-bdea-548b2cfe3653",
   "metadata": {},
   "outputs": [
    {
     "name": "stdout",
     "output_type": "stream",
     "text": [
      "8 vowels\n",
      "4 special characters\n",
      "12 consonants\n"
     ]
    }
   ],
   "source": [
    "s=\"welcome to city of lakes\"\n",
    "\n",
    "v=0\n",
    "c=0\n",
    "sp=0\n",
    "for i in s:\n",
    "    if i in \"a,e,i,o,u\":\n",
    "        v=v+1\n",
    "    elif(i==\" \"):\n",
    "        sp=sp+1\n",
    "    else:\n",
    "        c=c+1\n",
    "print(v,\"vowels\")\n",
    "print(sp,\"special characters\")\n",
    "print(c,\"consonants\")"
   ]
  },
  {
   "cell_type": "code",
   "execution_count": 1,
   "id": "8d45e212-f5be-4a99-ad31-00d5d9715bb8",
   "metadata": {},
   "outputs": [
    {
     "name": "stdout",
     "output_type": "stream",
     "text": [
      "2\n",
      "3\n",
      "5\n",
      "7\n"
     ]
    }
   ],
   "source": [
    "for i in range(2, 10):\n",
    "    for num in range(2, i):\n",
    "        if i % num == 0:\n",
    "            break\n",
    "    else:\n",
    "        print(i)"
   ]
  },
  {
   "cell_type": "code",
   "execution_count": 10,
   "id": "855399e0-9559-4a4e-9e53-86353eab8bb5",
   "metadata": {},
   "outputs": [],
   "source": [
    "n=2000\n",
    "a=len(str(n))\n",
    "sumdigit=0\n",
    "for i in range(0,2001):\n",
    "    dig=n%10\n",
    "    sumdigit=sumdigit+(dig**a)\n",
    "    n=n//10 \n",
    "    \n"
   ]
  },
  {
   "cell_type": "code",
   "execution_count": 7,
   "id": "1a7ca6b1-c1a7-4989-a503-09678dcc8cbb",
   "metadata": {},
   "outputs": [
    {
     "ename": "NameError",
     "evalue": "name 'num' is not defined",
     "output_type": "error",
     "traceback": [
      "\u001b[1;31m---------------------------------------------------------------------------\u001b[0m",
      "\u001b[1;31mNameError\u001b[0m                                 Traceback (most recent call last)",
      "Cell \u001b[1;32mIn[7], line 8\u001b[0m\n\u001b[0;32m      6\u001b[0m     order\u001b[38;5;241m=\u001b[39m\u001b[38;5;28mlen\u001b[39m\n\u001b[0;32m      7\u001b[0m     \u001b[38;5;28msum\u001b[39m \u001b[38;5;241m=\u001b[39m \u001b[38;5;241m0\u001b[39m\n\u001b[1;32m----> 8\u001b[0m     temp \u001b[38;5;241m=\u001b[39m num\n\u001b[0;32m     10\u001b[0m \u001b[38;5;28;01mwhile\u001b[39;00m temp \u001b[38;5;241m>\u001b[39m \u001b[38;5;241m0\u001b[39m:\n\u001b[0;32m     11\u001b[0m     digit \u001b[38;5;241m=\u001b[39m temp \u001b[38;5;241m%\u001b[39m \u001b[38;5;241m10\u001b[39m\n",
      "\u001b[1;31mNameError\u001b[0m: name 'num' is not defined"
     ]
    }
   ],
   "source": [
    "lower=1\n",
    "upper=2000\n",
    "\n",
    "for n in range(lower, upper + 1):\n",
    "\n",
    "    order=len\n",
    "    sum = 0\n",
    "    temp = num\n",
    "\n",
    "while temp > 0:\n",
    "    digit = temp % 10\n",
    "    sum +=(digit**order)\n",
    "    temp //= 10\n",
    "\n",
    "if num == sum:\n",
    "       print(num)"
   ]
  },
  {
   "cell_type": "code",
   "execution_count": 15,
   "id": "e7680042-b8be-4237-b5cd-6f09b3d65f93",
   "metadata": {},
   "outputs": [
    {
     "name": "stdout",
     "output_type": "stream",
     "text": [
      "18\n",
      "welcomne to cybrom\n",
      "WELCOMNE TO CYBROM\n",
      "3\n"
     ]
    }
   ],
   "source": [
    "s=\"WelcomNe to cybRom\"\n",
    "print(len(s))\n",
    "print(s.lower())\n",
    "print(s.upper())\n",
    "ord(\"g\")\n",
    "chr(99)\n",
    "print(s.count(\"o\"))"
   ]
  },
  {
   "cell_type": "code",
   "execution_count": 15,
   "id": "2a2f0e41-3597-4bfe-b34a-4b71bbf708ae",
   "metadata": {},
   "outputs": [
    {
     "name": "stdout",
     "output_type": "stream",
     "text": [
      "m\n",
      "the \n",
      "lmtt tole\n",
      "sekal fo ytic eht ot emoclew\n"
     ]
    }
   ],
   "source": [
    "s=\"welcome to the city of lakes\"\n",
    "#o/p--> m\n",
    "#o/p--> city\n",
    "#o/p--> lmtt tole\n",
    "#o/p--> reverse of s\n",
    "\n",
    "print(s[5])\n",
    "print(s[11:15:1])\n",
    "print(s[2::3])\n",
    "print(s[-1::-1])\n"
   ]
  },
  {
   "cell_type": "code",
   "execution_count": 3,
   "id": "c0ff8ebb-0b1d-405e-a546-d9825b6ef4b0",
   "metadata": {},
   "outputs": [
    {
     "name": "stdout",
     "output_type": "stream",
     "text": [
      "c\n",
      "y\n",
      "b\n",
      "r\n",
      "o\n",
      "m\n"
     ]
    }
   ],
   "source": [
    "s=\"cybrom\"\n",
    "for i in s:\n",
    "    print(i)"
   ]
  },
  {
   "cell_type": "code",
   "execution_count": 1,
   "id": "4136e763-3ca9-47d7-832b-b8e3d83a195d",
   "metadata": {},
   "outputs": [
    {
     "name": "stdout",
     "output_type": "stream",
     "text": [
      "0\n",
      "1\n",
      "2\n",
      "3\n",
      "4\n",
      "5\n"
     ]
    }
   ],
   "source": [
    "s=\"cybrom\"\n",
    "for i in range (len(s)):\n",
    "    print(i)"
   ]
  },
  {
   "cell_type": "code",
   "execution_count": 25,
   "id": "ce6ca515-1b10-4e7f-a535-b1f0e70cdaee",
   "metadata": {},
   "outputs": [
    {
     "name": "stdout",
     "output_type": "stream",
     "text": [
      "6\n",
      "0\n",
      "1\n",
      "2\n",
      "3\n",
      "4\n",
      "5\n"
     ]
    }
   ],
   "source": [
    "s=\"cybrom\"\n",
    "t=len(s)\n",
    "print(t)\n",
    "for i in range (t):\n",
    "    print(i)"
   ]
  },
  {
   "cell_type": "code",
   "execution_count": 26,
   "id": "35674029-eeef-4cf7-b4e9-30beecae1b2a",
   "metadata": {},
   "outputs": [
    {
     "name": "stdout",
     "output_type": "stream",
     "text": [
      "6\n",
      "c\n",
      "y\n",
      "b\n",
      "r\n",
      "o\n",
      "m\n"
     ]
    }
   ],
   "source": [
    "s=\"cybrom\"\n",
    "t=len(s)\n",
    "print(t)\n",
    "for i in range (t):\n",
    "    print(s[i])"
   ]
  },
  {
   "cell_type": "code",
   "execution_count": 26,
   "id": "923b6ce4-ab2b-4337-9a50-38a419d317f5",
   "metadata": {},
   "outputs": [
    {
     "name": "stdout",
     "output_type": "stream",
     "text": [
      " WELCOME TO CYBROM\n",
      " welcome to cybrom\n",
      " Welcome To Cybrom\n",
      " welcome to cybrom\n"
     ]
    }
   ],
   "source": [
    "s=\" Welcome to cybrom\"\n",
    "print(s.upper())\n",
    "print(s.lower())\n",
    "print(s.title())\n",
    "print(s.capitalize())\n"
   ]
  },
  {
   "cell_type": "code",
   "execution_count": 19,
   "id": "06b1189b-1062-4b1a-848e-533255e689d9",
   "metadata": {},
   "outputs": [
    {
     "name": "stdout",
     "output_type": "stream",
     "text": [
      "welcome to cybrom\n",
      "3\n",
      "      welcome to cybrom         \n"
     ]
    }
   ],
   "source": [
    "s=\"      welcome to cybrom         \"\n",
    "print(s.strip())      #---REMOVES THE SPACES\n",
    "print(s.count(\"o\"))\n",
    "print(s.capitalize())\n"
   ]
  },
  {
   "cell_type": "code",
   "execution_count": 41,
   "id": "19095c2d-d7a6-4111-8769-514b4e6eb9ac",
   "metadata": {},
   "outputs": [
    {
     "name": "stdout",
     "output_type": "stream",
     "text": [
      "8\n",
      "4\n",
      "11\n",
      "9\n"
     ]
    },
    {
     "ename": "ValueError",
     "evalue": "substring not found",
     "output_type": "error",
     "traceback": [
      "\u001b[1;31m---------------------------------------------------------------------------\u001b[0m",
      "\u001b[1;31mValueError\u001b[0m                                Traceback (most recent call last)",
      "Cell \u001b[1;32mIn[41], line 8\u001b[0m\n\u001b[0;32m      6\u001b[0m \u001b[38;5;28mprint\u001b[39m(s\u001b[38;5;241m.\u001b[39mfind(\u001b[38;5;124m\"\u001b[39m\u001b[38;5;124mt\u001b[39m\u001b[38;5;124m\"\u001b[39m,\u001b[38;5;241m9\u001b[39m))          \u001b[38;5;66;03m#----finds the character after given position\u001b[39;00m\n\u001b[0;32m      7\u001b[0m \u001b[38;5;28mprint\u001b[39m(s\u001b[38;5;241m.\u001b[39mindex(\u001b[38;5;124m\"\u001b[39m\u001b[38;5;124mo\u001b[39m\u001b[38;5;124m\"\u001b[39m,\u001b[38;5;241m5\u001b[39m))          \u001b[38;5;66;03m#----gives the  posittion of character after given position\u001b[39;00m\n\u001b[1;32m----> 8\u001b[0m \u001b[38;5;28mprint\u001b[39m(s\u001b[38;5;241m.\u001b[39mindex(\u001b[38;5;124m\"\u001b[39m\u001b[38;5;124mz\u001b[39m\u001b[38;5;124m\"\u001b[39m,\u001b[38;5;241m5\u001b[39m))\n",
      "\u001b[1;31mValueError\u001b[0m: substring not found"
     ]
    }
   ],
   "source": [
    "#find - reurns the position of the given character     (index number)\n",
    "#index - returns the position of the given character    (returns index number)\n",
    "\n",
    "\n",
    "s=\"welcome to the city of lakes\"\n",
    "print(s.find(\"t\"))            #---- finds the first occurence\n",
    "print(s.index(\"o\"))           #----finds the position number\n",
    "print(s.find(\"t\",9))          #----finds the character after given position\n",
    "print(s.index(\"o\",5))          #----gives the  position of character after given position\n",
    "print(s.index(\"z\",5))          #-----string not found"
   ]
  },
  {
   "cell_type": "code",
   "execution_count": 42,
   "id": "d890fd9d-efa9-4196-8880-1550e66003b2",
   "metadata": {},
   "outputs": [
    {
     "name": "stdout",
     "output_type": "stream",
     "text": [
      "w-e-l-c-o-m-e- -t-o- -t-h-e- -c-i-t-y- -o-f- -l-a-k-e-s\n"
     ]
    }
   ],
   "source": [
    "#JOIN\n",
    "\n",
    "\n",
    "s=\"welcome to the city of lakes\"\n",
    "t=\"-\".join(s)\n",
    "print(t)"
   ]
  },
  {
   "cell_type": "code",
   "execution_count": 22,
   "id": "0b232e61-49e8-4cb4-a312-e5ea88f724db",
   "metadata": {},
   "outputs": [
    {
     "name": "stdout",
     "output_type": "stream",
     "text": [
      "['welcome', 'to', 'the', 'city', 'of', 'lakes']\n"
     ]
    }
   ],
   "source": [
    "#SPLIT\n",
    "\n",
    "s=\"welcome to the city of lakes\"\n",
    "print(s.split())"
   ]
  },
  {
   "cell_type": "code",
   "execution_count": 28,
   "id": "fb0d2ad8-d9a9-4d09-8614-84a993ae6723",
   "metadata": {},
   "outputs": [
    {
     "name": "stdout",
     "output_type": "stream",
     "text": [
      "w-e-l-c-o-m-e- -t-o- -t-h-e- -c-i-t-y- -o-f- -l-a-k-e-s\n",
      "['w', 'e', 'l', 'c', 'o', 'm', 'e', ' ', 't', 'o', ' ', 't', 'h', 'e', ' ', 'c', 'i', 't', 'y', ' ', 'o', 'f', ' ', 'l', 'a', 'k', 'e', 's']\n",
      "-\n"
     ]
    }
   ],
   "source": [
    "s=\"welcome to the city of lakes\"\n",
    "t=\"-\".join(s)\n",
    "print(t)\n",
    "print(t.split(\"-\"))\n",
    "print(t.join(\"-\"))"
   ]
  },
  {
   "cell_type": "code",
   "execution_count": 46,
   "id": "70bb386d-929a-40a5-b997-dd95861160db",
   "metadata": {},
   "outputs": [
    {
     "name": "stdout",
     "output_type": "stream",
     "text": [
      "['welc', 'me t', ' cybr', 'm']\n"
     ]
    }
   ],
   "source": [
    "s=\"welcome to cybrom\"\n",
    "print(s.split(\"o\"))"
   ]
  },
  {
   "cell_type": "code",
   "execution_count": 47,
   "id": "1e534bd2-dbfc-4951-9c35-66faa08230f4",
   "metadata": {},
   "outputs": [
    {
     "name": "stdout",
     "output_type": "stream",
     "text": [
      "['w', 'lcom', ' to cybrom']\n"
     ]
    }
   ],
   "source": [
    "s=\"welcome to cybrom\"\n",
    "print(s.split(\"e\"))"
   ]
  },
  {
   "cell_type": "code",
   "execution_count": 25,
   "id": "bdedfbbc-0653-4ad2-a0e3-712216ac0554",
   "metadata": {},
   "outputs": [
    {
     "name": "stdout",
     "output_type": "stream",
     "text": [
      "welcome to bhopal\n",
      "welCome to Cybrom\n"
     ]
    }
   ],
   "source": [
    "#REPLACE\n",
    "\n",
    "s=\"welcome to cybrom\"\n",
    "print(s.replace(\"cybrom\",\"bhopal\"))\n",
    "print(s.replace(\"c\",\"C\"))"
   ]
  },
  {
   "cell_type": "code",
   "execution_count": 4,
   "id": "ee7b0f36-3bac-4613-873c-65544d87e61d",
   "metadata": {},
   "outputs": [
    {
     "name": "stdin",
     "output_type": "stream",
     "text": [
      "enter numbers: 1\n",
      "enter numbers: 2\n",
      "enter numbers: 3\n",
      "enter numbers: 4\n",
      "enter numbers: 5\n"
     ]
    },
    {
     "name": "stdout",
     "output_type": "stream",
     "text": [
      "{1: 1, 2: 8, 3: 27, 4: 64, 5: 125}\n"
     ]
    }
   ],
   "source": [
    "d={}\n",
    "for i in range(5):\n",
    "    n=int(input(\"enter numbers:\"))\n",
    "    d[n]=n**3\n",
    "print(d)"
   ]
  },
  {
   "cell_type": "code",
   "execution_count": 12,
   "id": "d17d35b1-1ac8-449d-a23b-1e1e9be97a5a",
   "metadata": {},
   "outputs": [
    {
     "name": "stdout",
     "output_type": "stream",
     "text": [
      "{'A': 0, 'B': 1, 'C': 4, 'D': 9, 'E': 16, 'F': 25, 'G': 36, 'H': 49, 'I': 64, 'J': 81}\n"
     ]
    }
   ],
   "source": [
    "d={}\n",
    "for i in range(10):\n",
    "    a=chr(65+i)\n",
    "    d[a]=i**2\n",
    "print(d)"
   ]
  },
  {
   "cell_type": "code",
   "execution_count": 24,
   "id": "6f7a57a8-5706-446b-9e59-af1283ba294e",
   "metadata": {},
   "outputs": [
    {
     "name": "stdout",
     "output_type": "stream",
     "text": [
      "        MEAN=sum of elements/number of elements        \n"
     ]
    },
    {
     "ename": "IndexError",
     "evalue": "list index out of range",
     "output_type": "error",
     "traceback": [
      "\u001b[1;31m---------------------------------------------------------------------------\u001b[0m",
      "\u001b[1;31mIndexError\u001b[0m                                Traceback (most recent call last)",
      "Cell \u001b[1;32mIn[24], line 8\u001b[0m\n\u001b[0;32m      5\u001b[0m \u001b[38;5;28;01mfor\u001b[39;00m i \u001b[38;5;129;01min\u001b[39;00m l:\n\u001b[0;32m      6\u001b[0m     \u001b[38;5;28msum\u001b[39m\u001b[38;5;241m=\u001b[39m\u001b[38;5;28msum\u001b[39m\u001b[38;5;241m+\u001b[39mi\n\u001b[1;32m----> 8\u001b[0m \u001b[38;5;28mprint\u001b[39m(l[i])\n",
      "\u001b[1;31mIndexError\u001b[0m: list index out of range"
     ]
    }
   ],
   "source": [
    "l=[1,2,3,4,5,5,4,6,5,12]\n",
    "s1= '''        MEAN=sum of elements/number of elements        '''\n",
    "print(s1)\n",
    "sum=0\n",
    "for i in l:\n",
    "    sum=sum+i\n",
    "\n",
    "print(l[i])\n",
    "\n",
    "\n"
   ]
  },
  {
   "cell_type": "code",
   "execution_count": 2,
   "id": "7db34cc4-df7c-4c54-b74a-28958882545c",
   "metadata": {},
   "outputs": [
    {
     "name": "stdout",
     "output_type": "stream",
     "text": [
      "2\n",
      "3\n",
      "4\n",
      "5\n",
      "5\n",
      "5\n",
      "5\n",
      "4\n",
      "5\n"
     ]
    },
    {
     "ename": "IndexError",
     "evalue": "list index out of range",
     "output_type": "error",
     "traceback": [
      "\u001b[1;31m---------------------------------------------------------------------------\u001b[0m",
      "\u001b[1;31mIndexError\u001b[0m                                Traceback (most recent call last)",
      "Cell \u001b[1;32mIn[2], line 4\u001b[0m\n\u001b[0;32m      1\u001b[0m l\u001b[38;5;241m=\u001b[39m[\u001b[38;5;241m1\u001b[39m,\u001b[38;5;241m2\u001b[39m,\u001b[38;5;241m3\u001b[39m,\u001b[38;5;241m4\u001b[39m,\u001b[38;5;241m5\u001b[39m,\u001b[38;5;241m5\u001b[39m,\u001b[38;5;241m4\u001b[39m,\u001b[38;5;241m6\u001b[39m,\u001b[38;5;241m5\u001b[39m,\u001b[38;5;241m12\u001b[39m]\n\u001b[0;32m      2\u001b[0m \u001b[38;5;28;01mfor\u001b[39;00m i \u001b[38;5;129;01min\u001b[39;00m l:\n\u001b[1;32m----> 4\u001b[0m     \u001b[38;5;28mprint\u001b[39m(l[i])\n",
      "\u001b[1;31mIndexError\u001b[0m: list index out of range"
     ]
    }
   ],
   "source": [
    "l=[1,2,3,4,5,5,4,6,5,12]\n",
    "for i in l:\n",
    "    \n",
    "    print(l[i])"
   ]
  },
  {
   "cell_type": "code",
   "execution_count": 14,
   "id": "fd437946-18eb-4141-836d-f8d858ef862b",
   "metadata": {},
   "outputs": [
    {
     "data": {
      "text/plain": [
       "'c'"
      ]
     },
     "execution_count": 14,
     "metadata": {},
     "output_type": "execute_result"
    }
   ],
   "source": [
    "chr(99)"
   ]
  },
  {
   "cell_type": "code",
   "execution_count": 17,
   "id": "b90d8cf4-6381-47fd-b84d-547b9f8195bc",
   "metadata": {},
   "outputs": [
    {
     "data": {
      "text/plain": [
       "103"
      ]
     },
     "execution_count": 17,
     "metadata": {},
     "output_type": "execute_result"
    }
   ],
   "source": [
    "ord(\"g\")"
   ]
  },
  {
   "cell_type": "code",
   "execution_count": null,
   "id": "48ed95ba-cfc1-4a34-82b9-9d480ed2d36a",
   "metadata": {},
   "outputs": [],
   "source": []
  }
 ],
 "metadata": {
  "kernelspec": {
   "display_name": "Python 3 (ipykernel)",
   "language": "python",
   "name": "python3"
  },
  "language_info": {
   "codemirror_mode": {
    "name": "ipython",
    "version": 3
   },
   "file_extension": ".py",
   "mimetype": "text/x-python",
   "name": "python",
   "nbconvert_exporter": "python",
   "pygments_lexer": "ipython3",
   "version": "3.11.7"
  }
 },
 "nbformat": 4,
 "nbformat_minor": 5
}
